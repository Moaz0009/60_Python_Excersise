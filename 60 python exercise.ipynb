{
 "cells": [
  {
   "cell_type": "markdown",
   "id": "759d04ba",
   "metadata": {},
   "source": [
    "**1-Write a Python program to calculate the length of a string using 2 ways"
   ]
  },
  {
   "cell_type": "code",
   "execution_count": 3,
   "id": "e434c950",
   "metadata": {},
   "outputs": [
    {
     "name": "stdout",
     "output_type": "stream",
     "text": [
      "4\n"
     ]
    }
   ],
   "source": [
    "x='moaz'\n",
    "print(len(x))"
   ]
  },
  {
   "cell_type": "code",
   "execution_count": 2,
   "id": "7a2dfa32",
   "metadata": {},
   "outputs": [
    {
     "name": "stdout",
     "output_type": "stream",
     "text": [
      "4\n"
     ]
    }
   ],
   "source": [
    "x='moaz'\n",
    "counter=0\n",
    "for i in x:\n",
    "    counter+=1\n",
    "print(counter)"
   ]
  },
  {
   "cell_type": "markdown",
   "id": "d7cc9da7",
   "metadata": {},
   "source": [
    "**2-Write a Python program to get a string made of the first 2 and last 2 characters of a given string. If the string length is less than 2, return the empty string instead (\"##Sample String : 'w3resource'\n",
    "Expected Result : 'w3ce'\n",
    "##Sample String : 'w3'\n",
    "Expected Result : 'w3w3'\n",
    "##Sample String : ' w'\n",
    "Expected Result : Empty String)"
   ]
  },
  {
   "cell_type": "code",
   "execution_count": 3,
   "id": "dafa9dd8",
   "metadata": {},
   "outputs": [
    {
     "name": "stdout",
     "output_type": "stream",
     "text": [
      "mo\n",
      "momo\n"
     ]
    }
   ],
   "source": [
    "x=input()\n",
    "if(len(x)>1):\n",
    "    x=x[0:2]+x[-2]+x[-1]\n",
    "else:\n",
    "    x=\"Empty String\"\n",
    "print(x)"
   ]
  },
  {
   "cell_type": "markdown",
   "id": "1534f956",
   "metadata": {},
   "source": [
    "**3-Write a Python program to add 'ing' at the end of a given string (length should be at least 3). If the given string already ends with 'ing', add 'ly' instead. If the string length of the given string is less than 3, leave it unchanged. (Sample String : 'abc'\n",
    "Expected Result : 'abcing')"
   ]
  },
  {
   "cell_type": "code",
   "execution_count": 26,
   "id": "7ff8cec4",
   "metadata": {},
   "outputs": [
    {
     "name": "stdout",
     "output_type": "stream",
     "text": [
      "abcing\n",
      "abcingly\n"
     ]
    }
   ],
   "source": [
    "x=input()\n",
    "if(len(x)>2):\n",
    "    if(x[-3:]!=\"ing\"):\n",
    "        x=x+\"ing\"\n",
    "    else:\n",
    "        x=x+\"ly\"\n",
    "print(x)"
   ]
  },
  {
   "cell_type": "markdown",
   "id": "1c0a6627",
   "metadata": {},
   "source": [
    "**4-Write a Python function that takes a list of words and return the longest word and the length of the longest one\n",
    "(Longest word: Exercises\n",
    "Length of the longest word: 9)"
   ]
  },
  {
   "cell_type": "code",
   "execution_count": 35,
   "id": "397341d9",
   "metadata": {},
   "outputs": [
    {
     "name": "stdout",
     "output_type": "stream",
     "text": [
      "hola000 7\n"
     ]
    }
   ],
   "source": [
    "x=['hiiiii','hola000','hello']\n",
    "max_=len(x[0])\n",
    "index=0\n",
    "for i in x:\n",
    "    if(len(i)>max_):\n",
    "        max_=len(i)\n",
    "        index +=1\n",
    "print(x[index],max_)"
   ]
  },
  {
   "cell_type": "markdown",
   "id": "53a03a6a",
   "metadata": {},
   "source": [
    "**5-Write a Python program to change a given string to a newly string where the first and last chars have been exchanged using 2 ways (Sample String:abca  Expected Result:ebce)"
   ]
  },
  {
   "cell_type": "code",
   "execution_count": 37,
   "id": "fd327d2a",
   "metadata": {},
   "outputs": [
    {
     "name": "stdout",
     "output_type": "stream",
     "text": [
      "abca\n",
      "ebce\n"
     ]
    }
   ],
   "source": [
    "x=input()\n",
    "x='e'+x[1:-1]+'e'\n",
    "print(x)"
   ]
  },
  {
   "cell_type": "code",
   "execution_count": 39,
   "id": "285788b4",
   "metadata": {},
   "outputs": [
    {
     "name": "stdout",
     "output_type": "stream",
     "text": [
      "abca\n",
      "ebce\n"
     ]
    }
   ],
   "source": [
    "x=input()\n",
    "x=x[1:-1]\n",
    "print(f'e{x}e')"
   ]
  },
  {
   "cell_type": "markdown",
   "id": "25f89808",
   "metadata": {},
   "source": [
    "**6-Write a Python program to remove characters that have odd index values in a given string (Sample String:abca Expected Result:ac)"
   ]
  },
  {
   "cell_type": "code",
   "execution_count": 41,
   "id": "05959bd7",
   "metadata": {},
   "outputs": [
    {
     "name": "stdout",
     "output_type": "stream",
     "text": [
      "abca\n",
      "ac\n"
     ]
    }
   ],
   "source": [
    "x=input()\n",
    "y=''\n",
    "for i in range(0,len(x),2):\n",
    "    y +=x[i]\n",
    "print(y)"
   ]
  },
  {
   "cell_type": "markdown",
   "id": "eb16e898",
   "metadata": {},
   "source": [
    "**7-Write a Python program to count the occurrences of each word in a given sentence (Sample String:amr and ahmed are frindes but amr is the tallest Expected Result:2)"
   ]
  },
  {
   "cell_type": "code",
   "execution_count": 47,
   "id": "01ce6cf5",
   "metadata": {},
   "outputs": [
    {
     "name": "stdout",
     "output_type": "stream",
     "text": [
      "{'amr': 2, 'and': 1, 'ahmed': 1, 'are': 1, 'frindes': 1, 'but': 1, 'is': 1, 'the': 1, 'tallest': 1}\n"
     ]
    }
   ],
   "source": [
    "x='amr and ahmed are frindes but amr is the tallest'\n",
    "x=x.split()\n",
    "c={}\n",
    "for i in x:\n",
    "    c[i]=0\n",
    "for i in x:\n",
    "    if(i in c):\n",
    "        c[i] +=1\n",
    "print(c)"
   ]
  },
  {
   "cell_type": "markdown",
   "id": "4e8125f1",
   "metadata": {},
   "source": [
    "**8-Write a Python script that takes input from the user and displays that input back in upper and lower cases"
   ]
  },
  {
   "cell_type": "code",
   "execution_count": 49,
   "id": "66c8f778",
   "metadata": {},
   "outputs": [
    {
     "name": "stdout",
     "output_type": "stream",
     "text": [
      "moaz\n",
      "MOAZ\n",
      "moaz\n"
     ]
    }
   ],
   "source": [
    "x=input()\n",
    "print(x.upper())\n",
    "print(x.lower())"
   ]
  },
  {
   "cell_type": "markdown",
   "id": "fcd68aa1",
   "metadata": {},
   "source": [
    "**9-Write a Python function to reverse a string if its length is a multiple of 4"
   ]
  },
  {
   "cell_type": "code",
   "execution_count": 53,
   "id": "0671a931",
   "metadata": {},
   "outputs": [
    {
     "name": "stdout",
     "output_type": "stream",
     "text": [
      "moaz\n",
      "zaom\n"
     ]
    }
   ],
   "source": [
    "def revers(x):\n",
    "    t=''\n",
    "    for i in range(-1,-(len(x)+1),-1):\n",
    "        t += x[i]\n",
    "    return t\n",
    "x=input()\n",
    "if(len(x)%4==0):\n",
    "    print(revers(x))"
   ]
  },
  {
   "cell_type": "markdown",
   "id": "b577c68d",
   "metadata": {},
   "source": [
    "**10- Write a Python program to remove a newline in Python"
   ]
  },
  {
   "cell_type": "code",
   "execution_count": 54,
   "id": "b614696b",
   "metadata": {},
   "outputs": [
    {
     "name": "stdout",
     "output_type": "stream",
     "text": [
      "hello, world!\n",
      "\n",
      "hello, world!\n"
     ]
    }
   ],
   "source": [
    "x='hello, world!\\n'\n",
    "print(x) #with newline\n",
    "print(x.strip()) #without newline"
   ]
  },
  {
   "cell_type": "markdown",
   "id": "80db5ae0",
   "metadata": {},
   "source": [
    "**11-Write a Python program to check whether a string starts with specified characters"
   ]
  },
  {
   "cell_type": "code",
   "execution_count": 55,
   "id": "0cc4e03e",
   "metadata": {},
   "outputs": [
    {
     "name": "stdout",
     "output_type": "stream",
     "text": [
      "ali\n",
      "True!\n"
     ]
    }
   ],
   "source": [
    "x=input()\n",
    "d=['a','c','r']\n",
    "if(x[0]==d[0] or x[0]==d[1] or x[0]==d[2]):\n",
    "    print(\"True!\")\n",
    "else:\n",
    "    print(\"False!\")"
   ]
  },
  {
   "cell_type": "markdown",
   "id": "593a68db",
   "metadata": {},
   "source": [
    "**12- Write a Python program to add prefix text to all of the lines in a string"
   ]
  },
  {
   "cell_type": "code",
   "execution_count": 67,
   "id": "d2e46ada",
   "metadata": {},
   "outputs": [
    {
     "name": "stdout",
     "output_type": "stream",
     "text": [
      "* Python is an interpreted, object-oriented programming languages.\n",
      "* high-level programming language that can be used for a wide variety of\n",
      "* applications.  Python is a powerful general-purpose programming\n",
      "* language. First developed in the late 1980s by Guido van Rossum.\n",
      "* Python is open source programming language. Guido van Rossum named it\n",
      "* after the BBC Comedy TV series Monty Python’s Flying Circus.\n"
     ]
    }
   ],
   "source": [
    "import textwrap as tw\n",
    "org_text=\"\"\"    Python is an interpreted, object-oriented programming languages. \n",
    "    high-level programming language that can be used for a wide variety of applications. \n",
    "    Python is a powerful general-purpose programming language.\n",
    "    First developed in the late 1980s by Guido van Rossum. \n",
    "    Python is open source programming language.\n",
    "    Guido van Rossum named it after the BBC Comedy TV series Monty Python’s Flying Circus.\n",
    "\"\"\"\n",
    "text_without_indent=tw.dedent(org_text)\n",
    "txt=tw.fill(text_without_indent,width=70)\n",
    "fin_text=tw.indent(txt,'* ')\n",
    "print(fin_text)"
   ]
  },
  {
   "cell_type": "markdown",
   "id": "86fa1543",
   "metadata": {},
   "source": [
    "**13-Write a Python program to print the following numbers up to 2 decimal places"
   ]
  },
  {
   "cell_type": "code",
   "execution_count": 75,
   "id": "cd4a9d89",
   "metadata": {},
   "outputs": [
    {
     "name": "stdout",
     "output_type": "stream",
     "text": [
      "3.14\n",
      "3.14\n",
      "3.14\n"
     ]
    }
   ],
   "source": [
    "x=3.141592653589793\n",
    "x1=f\"{x:.2f}\"\n",
    "print(x1)\n",
    "x2=\"{:.2f}\".format(x)\n",
    "print(x2)\n",
    "x3=round(x,2)\n",
    "print(x3)"
   ]
  },
  {
   "cell_type": "markdown",
   "id": "452c0ab0",
   "metadata": {},
   "source": [
    "**14-Write a Python program to print the following numbers up to 2 decimal places with a sign"
   ]
  },
  {
   "cell_type": "code",
   "execution_count": 74,
   "id": "73e82479",
   "metadata": {},
   "outputs": [
    {
     "name": "stdout",
     "output_type": "stream",
     "text": [
      "-3.14\n",
      "-3.14\n",
      "-3.14\n"
     ]
    }
   ],
   "source": [
    "x=-3.141592653589793\n",
    "x1=f\"{x:.2f}\"\n",
    "print(x1)\n",
    "x2=\"{:.2f}\".format(x)\n",
    "print(x2)\n",
    "x3=round(x,2)\n",
    "print(x3)"
   ]
  },
  {
   "cell_type": "markdown",
   "id": "32b1811a",
   "metadata": {},
   "source": [
    "**15-Write a Python program to display a number with a comma separator"
   ]
  },
  {
   "cell_type": "code",
   "execution_count": 92,
   "id": "f30fc0b6",
   "metadata": {},
   "outputs": [
    {
     "name": "stdout",
     "output_type": "stream",
     "text": [
      "99999\n",
      "999,99\n"
     ]
    }
   ],
   "source": [
    "x=input()\n",
    "x1=''\n",
    "count=0\n",
    "for i in range(-1,-(len(x)+1),-1):\n",
    "    if(count!=3):\n",
    "        x1 +=x[i]\n",
    "        count +=1\n",
    "    else:\n",
    "        x1 +=','\n",
    "        count=0\n",
    "        x1 +=x[i]\n",
    "x1=x1[::-1]\n",
    "print(x1)"
   ]
  },
  {
   "cell_type": "markdown",
   "id": "0477f487",
   "metadata": {},
   "source": [
    "**16-Write a Python program to reverse a string using 2 ways"
   ]
  },
  {
   "cell_type": "code",
   "execution_count": 94,
   "id": "aa8beec8",
   "metadata": {},
   "outputs": [
    {
     "data": {
      "text/plain": [
       "'zaom'"
      ]
     },
     "execution_count": 94,
     "metadata": {},
     "output_type": "execute_result"
    }
   ],
   "source": [
    "x='moaz'\n",
    "x=x[::-1]"
   ]
  },
  {
   "cell_type": "code",
   "execution_count": 113,
   "id": "6088a05f",
   "metadata": {},
   "outputs": [
    {
     "name": "stdout",
     "output_type": "stream",
     "text": [
      "zaom\n"
     ]
    }
   ],
   "source": [
    "x='moaz'\n",
    "f=[]\n",
    "for i in x:\n",
    "    f.append(i)\n",
    "f=f[::-1]\n",
    "x=''.join(f)\n",
    "print(x)"
   ]
  },
  {
   "cell_type": "markdown",
   "id": "5afc3166",
   "metadata": {},
   "source": [
    " **17-Write a Python program to count repeated characters in a string (hint:use dictionary)"
   ]
  },
  {
   "cell_type": "code",
   "execution_count": 118,
   "id": "515a469c",
   "metadata": {},
   "outputs": [
    {
     "name": "stdout",
     "output_type": "stream",
     "text": [
      "\n",
      "  @media print {\n",
      "    .ms-editor-squiggles-container {\n",
      "      display:none !important;\n",
      "    }\n",
      "  }\n",
      "  .ms-editor-squiggles-container {\n",
      "    all: initial;\n",
      "  }aaa gg hhhh t\n",
      "{'a': 3, 'g': 2, 'h': 4, 't': 1}\n"
     ]
    }
   ],
   "source": [
    "x=input()\n",
    "x=x.split()\n",
    "x=''.join(x)\n",
    "repeat={}\n",
    "for i in x:\n",
    "      repeat[i]=0\n",
    "for i in x:\n",
    "    if(i in repeat):\n",
    "        repeat[i]+=1\n",
    "print(repeat)\n",
    "    "
   ]
  },
  {
   "cell_type": "markdown",
   "id": "ae14e4e5",
   "metadata": {},
   "source": [
    "**18-Write a Python program to find the first non-repeating character in a given string"
   ]
  },
  {
   "cell_type": "code",
   "execution_count": 127,
   "id": "d73778e5",
   "metadata": {},
   "outputs": [
    {
     "name": "stdout",
     "output_type": "stream",
     "text": [
      "\n",
      "  @media print {\n",
      "    .ms-editor-squiggles-container {\n",
      "      display:none !important;\n",
      "    }\n",
      "  }\n",
      "  .ms-editor-squiggles-container {\n",
      "    all: initial;\n",
      "  }aaa f m oo\n",
      "{'a': 3, 'f': 1, 'm': 1, 'o': 2}\n",
      "f\n"
     ]
    }
   ],
   "source": [
    "x=input()\n",
    "x=x.split()\n",
    "x=''.join(x)\n",
    "repeat={}\n",
    "for i in x:\n",
    "      repeat[i]=0\n",
    "for i in x:\n",
    "    if(i in repeat):\n",
    "        repeat[i]+=1\n",
    "print(repeat)\n",
    "for i in repeat:\n",
    "    if(repeat[i]==1):\n",
    "        print(i)\n",
    "        break"
   ]
  },
  {
   "cell_type": "markdown",
   "id": "3adf5669",
   "metadata": {},
   "source": [
    "**19-Write a Python program to remove spaces from a given string"
   ]
  },
  {
   "cell_type": "code",
   "execution_count": 129,
   "id": "b4f22602",
   "metadata": {},
   "outputs": [
    {
     "name": "stdout",
     "output_type": "stream",
     "text": [
      "m o a z\n",
      "moaz\n"
     ]
    }
   ],
   "source": [
    "x=input()\n",
    "x=x.split()\n",
    "x=''.join(x)\n",
    "print(x)"
   ]
  },
  {
   "cell_type": "markdown",
   "id": "734de60c",
   "metadata": {},
   "source": [
    "**20-Write a Python program to count the number of non-empty substrings of a given string"
   ]
  },
  {
   "cell_type": "code",
   "execution_count": 133,
   "id": "466a1f44",
   "metadata": {},
   "outputs": [
    {
     "name": "stdout",
     "output_type": "stream",
     "text": [
      "\n",
      "  @media print {\n",
      "    .ms-editor-squiggles-container {\n",
      "      display:none !important;\n",
      "    }\n",
      "  }\n",
      "  .ms-editor-squiggles-container {\n",
      "    all: initial;\n",
      "  }moaz Abdeljalil salah\n",
      "3\n"
     ]
    }
   ],
   "source": [
    "x=input()\n",
    "x=x.split()\n",
    "print(len(x))"
   ]
  },
  {
   "cell_type": "markdown",
   "id": "509998e2",
   "metadata": {},
   "source": [
    "**21-write a Python program to swap first and last element of any list."
   ]
  },
  {
   "cell_type": "code",
   "execution_count": 135,
   "id": "68692d7f",
   "metadata": {},
   "outputs": [
    {
     "data": {
      "text/plain": [
       "['welcome', 'hola', 'hello', 'hi']"
      ]
     },
     "execution_count": 135,
     "metadata": {},
     "output_type": "execute_result"
    }
   ],
   "source": [
    "x=['hi', 'hola', 'hello','welcome']\n",
    "temp=x[0]\n",
    "x[0]=x[-1]\n",
    "x[-1]=temp\n",
    "print(x)"
   ]
  },
  {
   "cell_type": "markdown",
   "id": "959e0837",
   "metadata": {},
   "source": [
    "**22-Given a list in Python and provided the positions of the elements, write a program to swap the two elements in the list. (Input : List = [23, 65, 19, 90], pos1 = 1, pos2 = 3\n",
    "Output : [19, 65, 23, 90])"
   ]
  },
  {
   "cell_type": "code",
   "execution_count": 139,
   "id": "225d8c6d",
   "metadata": {},
   "outputs": [
    {
     "name": "stdout",
     "output_type": "stream",
     "text": [
      "23 65 19 90\n",
      "1\n",
      "3\n",
      "['19', '65', '23', '90']\n"
     ]
    }
   ],
   "source": [
    "x=input()\n",
    "x=x.split()\n",
    "pos1=int(input())-1\n",
    "pos2=int(input())-1\n",
    "temp=x[pos1]\n",
    "x[pos1]=x[pos2]\n",
    "x[pos2]=temp\n",
    "print(x)"
   ]
  },
  {
   "cell_type": "markdown",
   "id": "66fc6682",
   "metadata": {},
   "source": [
    "**23- search for the all ways to know the length of the list"
   ]
  },
  {
   "cell_type": "code",
   "execution_count": 151,
   "id": "8b55e3f1",
   "metadata": {},
   "outputs": [
    {
     "name": "stdout",
     "output_type": "stream",
     "text": [
      "4\n",
      "4\n",
      "4\n"
     ]
    }
   ],
   "source": [
    "x=['hi', 'hola', 'hello','welcome']\n",
    "print(len(x))\n",
    "#-----------------------\n",
    "cont=0\n",
    "for i in x:\n",
    "    cont+= 1\n",
    "print(cont)\n",
    "#-----------------------\n",
    "cont=-1\n",
    "while(x[0]!=x[cont]):\n",
    "    cont -=1\n",
    "print(-cont)"
   ]
  },
  {
   "cell_type": "markdown",
   "id": "892b6452",
   "metadata": {},
   "source": [
    "**24-write a Python code to find the Maximum number of list of numbers."
   ]
  },
  {
   "cell_type": "code",
   "execution_count": 155,
   "id": "15f342de",
   "metadata": {},
   "outputs": [
    {
     "name": "stdout",
     "output_type": "stream",
     "text": [
      "90\n",
      "90\n"
     ]
    }
   ],
   "source": [
    "x=[50,60,90,10,30]\n",
    "maxx=x[0]\n",
    "for i in x:\n",
    "    if(i>maxx):\n",
    "        maxx=i\n",
    "print(maxx)\n",
    "#------------------\n",
    "print(max(x))"
   ]
  },
  {
   "cell_type": "markdown",
   "id": "f269e970",
   "metadata": {},
   "source": [
    "**25-write a Python code to find the Minimum number of list of numbers."
   ]
  },
  {
   "cell_type": "code",
   "execution_count": 156,
   "id": "21f8cbd6",
   "metadata": {},
   "outputs": [
    {
     "name": "stdout",
     "output_type": "stream",
     "text": [
      "10\n",
      "10\n"
     ]
    }
   ],
   "source": [
    "x=[50,60,90,10,30]\n",
    "minn=x[0]\n",
    "for i in x:\n",
    "    if(i<minn):\n",
    "        minn=i\n",
    "print(minn)\n",
    "#-----------------\n",
    "print(min(x))"
   ]
  },
  {
   "cell_type": "markdown",
   "id": "96822d96",
   "metadata": {},
   "source": [
    "**26-search for if an elem is existing in list"
   ]
  },
  {
   "cell_type": "code",
   "execution_count": 160,
   "id": "51ca5c9a",
   "metadata": {},
   "outputs": [
    {
     "name": "stdout",
     "output_type": "stream",
     "text": [
      "Found!\n"
     ]
    }
   ],
   "source": [
    "x=[50,60,90,10,30]\n",
    "elem=90\n",
    "for i in x:\n",
    "    if(elem==i):\n",
    "        print(\"Found!\")\n",
    "        break\n",
    "else:\n",
    "    print(\"Not Found!\")"
   ]
  },
  {
   "cell_type": "markdown",
   "id": "d9557da7",
   "metadata": {},
   "source": [
    "**27- clear python list using different ways"
   ]
  },
  {
   "cell_type": "code",
   "execution_count": 196,
   "id": "b69858a3",
   "metadata": {},
   "outputs": [
    {
     "name": "stdout",
     "output_type": "stream",
     "text": [
      "None\n",
      "50\n",
      "60\n",
      "90\n",
      "10\n",
      "30\n",
      "[]\n"
     ]
    }
   ],
   "source": [
    "x=[50,60,90,10,30]\n",
    "print(x.clear())\n",
    "#----------------------\n",
    "x=[50,60,90,10,30]\n",
    "for i in x[:]:\n",
    "    x.remove(i)\n",
    "print(x)"
   ]
  },
  {
   "cell_type": "markdown",
   "id": "52160e88",
   "metadata": {},
   "source": [
    "**28-remove duplicated elements from a list"
   ]
  },
  {
   "cell_type": "code",
   "execution_count": 199,
   "id": "5e362228",
   "metadata": {},
   "outputs": [
    {
     "name": "stdout",
     "output_type": "stream",
     "text": [
      "[1, 2, 3, 4, 5, 9]\n"
     ]
    }
   ],
   "source": [
    "x=[1,1,2,3,4,5,5,9]\n",
    "d={}\n",
    "y=[]\n",
    "for i in x:\n",
    "    d[i]=0\n",
    "for i in d:\n",
    "    y.append(i)\n",
    "print(y)"
   ]
  },
  {
   "cell_type": "markdown",
   "id": "282337f7",
   "metadata": {},
   "source": [
    "**29-Given list values and keys list, convert these values to key value pairs in form of list of dictionaries. (Input : test_list = [“Gfg”, 3, “is”, 8], key_list = [“name”, “id”]\n",
    "Output : [{‘name’: ‘Gfg’, ‘id’: 3}, {‘name’: ‘is’, ‘id’: 8}])"
   ]
  },
  {
   "cell_type": "code",
   "execution_count": 4,
   "id": "4d4e2d28",
   "metadata": {},
   "outputs": [
    {
     "name": "stdout",
     "output_type": "stream",
     "text": [
      "{'name': 'Gfg', 'id': 3}\n",
      "[{'name': 'Gfg', 'id': 3}]\n",
      "[{'name': 'is', 'id': 8}]\n"
     ]
    }
   ],
   "source": [
    "test_list = ['Gfg', 3, 'is', 8]\n",
    "key_list = ['name', 'id'] \n",
    "d={}\n",
    "r=[]\n",
    "for i in key_list:\n",
    "    d[i]=0\n",
    "count=0\n",
    "for i in test_list:\n",
    "    if(count !=len(key_list)):\n",
    "        d[key_list[count]]=i\n",
    "        count+=1\n",
    "    else:\n",
    "        print(d)\n",
    "        r.append(d)\n",
    "        print(r)\n",
    "        count=0\n",
    "        d[key_list[count]]=i\n",
    "        count+=1\n",
    "print(r)"
   ]
  },
  {
   "cell_type": "markdown",
   "id": "c26b6e9f",
   "metadata": {},
   "source": [
    "**30-write a python program to count unique values inside a list using different ways**"
   ]
  },
  {
   "cell_type": "code",
   "execution_count": 10,
   "id": "72132667",
   "metadata": {},
   "outputs": [
    {
     "name": "stdout",
     "output_type": "stream",
     "text": [
      "4\n"
     ]
    }
   ],
   "source": [
    "x=[1,2,2,3,4,5,5,9,1,7]\n",
    "d={}\n",
    "count=0\n",
    "for i in x:\n",
    "    d[i]=0\n",
    "for i in x:\n",
    "    if i in d:\n",
    "        d[i]+=1\n",
    "for i in d:\n",
    "    if(d[i]==1):\n",
    "        count+=1\n",
    "print(count)"
   ]
  },
  {
   "cell_type": "markdown",
   "id": "fed6677c",
   "metadata": {},
   "source": [
    "**31-write a python program Extract all elements with Frequency greater than K (Input : test_list = [4, 6, 4, 3, 3, 4, 3, 4, 3, 8], K = 3 \n",
    "Output : [4, 3] )**"
   ]
  },
  {
   "cell_type": "code",
   "execution_count": 17,
   "id": "d81f3f9d",
   "metadata": {},
   "outputs": [
    {
     "name": "stdout",
     "output_type": "stream",
     "text": [
      "[4, 3]\n"
     ]
    }
   ],
   "source": [
    "x = [4, 6, 4, 3, 3, 4, 3, 4, 3, 8]\n",
    "k=3\n",
    "d={}\n",
    "op=[]\n",
    "count=0\n",
    "for i in x:\n",
    "    d[i]=0\n",
    "for i in x:\n",
    "    if i in d:\n",
    "        d[i]+=1\n",
    "for i in d:\n",
    "    if(d[i]>3):\n",
    "        op.append(i)\n",
    "print(op)"
   ]
  },
  {
   "cell_type": "markdown",
   "id": "caca5224",
   "metadata": {},
   "source": [
    "**32-write a python program to find the Strongest Neighbour (Input: 1 2 2 3 4 5\n",
    "Output: 2 2 3 4 5)**"
   ]
  },
  {
   "cell_type": "code",
   "execution_count": 18,
   "id": "39fbd9b2",
   "metadata": {},
   "outputs": [
    {
     "name": "stdout",
     "output_type": "stream",
     "text": [
      "[2, 2, 3, 4, 5]\n"
     ]
    }
   ],
   "source": [
    "x=[1,2,2,3,4,5]\n",
    "y=[]\n",
    "for i in range(1,len(x)):\n",
    "    r=max(x[i],x[i-1])\n",
    "    y.append(r)\n",
    "print(y)"
   ]
  },
  {
   "cell_type": "markdown",
   "id": "a9fa8baf",
   "metadata": {},
   "source": [
    "**33-write a Python Program to print all Possible Combinations from the three Digits (Input: [1, 2, 3]\n",
    "Output:\n",
    "1 2 3 ##\n",
    "1 3 2 ##\n",
    "2 1 3 ##\n",
    "2 3 1 ##\n",
    "3 1 2 ##\n",
    "3 2 1)**"
   ]
  },
  {
   "cell_type": "code",
   "execution_count": 24,
   "id": "8c520a76",
   "metadata": {},
   "outputs": [
    {
     "name": "stdout",
     "output_type": "stream",
     "text": [
      "[1, 2, 3]\n",
      "[1, 3, 2]\n",
      "[2, 1, 3]\n",
      "[2, 3, 1]\n",
      "[3, 1, 2]\n",
      "[3, 2, 1]\n"
     ]
    }
   ],
   "source": [
    "from itertools import permutations\n",
    "x=[1,2,3]\n",
    "for perm in permutations(x):\n",
    "    print(list(perm))\n"
   ]
  },
  {
   "cell_type": "markdown",
   "id": "5288bb89",
   "metadata": {},
   "source": [
    "**34-write a Python program to find all the Combinations in the list with the given condition (Input: test_list = [1,2,3] \n",
    "Output: \n",
    " [1], [1, 2], [1, 2, 3], [1, 3]\n",
    " [2], [2, 3], [3])**"
   ]
  },
  {
   "cell_type": "code",
   "execution_count": 34,
   "id": "59b89646",
   "metadata": {},
   "outputs": [
    {
     "name": "stdout",
     "output_type": "stream",
     "text": [
      "[1]\n",
      "[2]\n",
      "[3]\n",
      "[1, 2]\n",
      "[1, 3]\n",
      "[2, 3]\n",
      "[1, 2, 3]\n"
     ]
    }
   ],
   "source": [
    "from itertools import combinations\n",
    "x=[1,2,3]\n",
    "for i in range(1,len(x)+1):\n",
    "     for comp in combinations(x,i):\n",
    "        print(list(comp))"
   ]
  },
  {
   "cell_type": "markdown",
   "id": "39973705",
   "metadata": {},
   "source": [
    "**35-write a Python program to get all unique combinations of two Lists (List_1 = [\"a\",\"b\"]\n",
    "List_2 = [1,2]\n",
    "Unique_combination = [[('a',1),('b',2)],[('a',2),('b',1)]] )**"
   ]
  },
  {
   "cell_type": "code",
   "execution_count": 47,
   "id": "8c4ba22b",
   "metadata": {},
   "outputs": [
    {
     "name": "stdout",
     "output_type": "stream",
     "text": [
      "('a', 1)\n",
      "('a', 2)\n",
      "('b', 1)\n",
      "('b', 2)\n"
     ]
    }
   ],
   "source": [
    "from itertools import product\n",
    "from itertools import combinations\n",
    "l1=['a','b']\n",
    "l2=[1,2]\n",
    "for i in product(l1,l2):\n",
    "    print(i)"
   ]
  },
  {
   "cell_type": "markdown",
   "id": "25199af5",
   "metadata": {},
   "source": [
    "**36-Remove all the occurrences of an element from a list in Python (Input : 1 1 2 3 4 5 1 2 1**\n",
    "\n",
    "**Output : 2 3 4 5 2)**"
   ]
  },
  {
   "cell_type": "code",
   "execution_count": 49,
   "id": "6dc4c2ba",
   "metadata": {},
   "outputs": [
    {
     "name": "stdout",
     "output_type": "stream",
     "text": [
      "[2, 3, 4, 5, 2]\n"
     ]
    }
   ],
   "source": [
    "x=[1,1,2,3,4,5,1,2,1]\n",
    "element=1\n",
    "y=[]\n",
    "for i in x:\n",
    "    if(i!=element):\n",
    "        y.append(i)\n",
    "print(y)"
   ]
  },
  {
   "cell_type": "markdown",
   "id": "bf1a3c93",
   "metadata": {},
   "source": [
    "**37-write a python program to Replace index elements with elements in Other List (The original list 1 is : [‘Gfg’, ‘is’, ‘best’] The original list 2 is : [0, 1, 2, 1, 0, 0, 0, 2, 1, 1, 2, 0] The lists after index elements replacements is : [‘Gfg’, ‘is’, ‘best’, ‘is’, ‘Gfg’, ‘Gfg’, ‘Gfg’, ‘best’, ‘is’, ‘is’, ‘best’, ‘Gfg’])**"
   ]
  },
  {
   "cell_type": "code",
   "execution_count": 52,
   "id": "fdd66a71",
   "metadata": {},
   "outputs": [
    {
     "data": {
      "text/plain": [
       "['Gfg',\n",
       " 'is',\n",
       " 'best',\n",
       " 'is',\n",
       " 'Gfg',\n",
       " 'Gfg',\n",
       " 'Gfg',\n",
       " 'best',\n",
       " 'is',\n",
       " 'is',\n",
       " 'best',\n",
       " 'Gfg']"
      ]
     },
     "execution_count": 52,
     "metadata": {},
     "output_type": "execute_result"
    }
   ],
   "source": [
    "l1=['Gfg', 'is', 'best'] \n",
    "l2=[0, 1, 2, 1, 0, 0, 0, 2, 1, 1, 2, 0]\n",
    "l3=[]\n",
    "for i in l2:\n",
    "    l3.append(l1[i])\n",
    "l3\n",
    "    \n"
   ]
  },
  {
   "cell_type": "markdown",
   "id": "af0f56e8",
   "metadata": {},
   "source": [
    "**38- write python program to Retain records with N occurrences of K(Input : test_list = [(4, 5, 5, 4), (5, 4, 3)], K = 5, N = 2 \n",
    "Output : [(4, 5, 5, 4)]\n",
    "Input : test_list = [(4, 5, 5, 4), (5, 4, 3)], K = 5, N = 3 \n",
    "Output : [] )**"
   ]
  },
  {
   "cell_type": "code",
   "execution_count": 56,
   "id": "67b06671",
   "metadata": {},
   "outputs": [
    {
     "name": "stdout",
     "output_type": "stream",
     "text": [
      "[]\n"
     ]
    }
   ],
   "source": [
    "def retain_records(records,n,k):\n",
    "    return[record for record in records if record.count(k)==n]\n",
    "\n",
    "records = [[4,5,5,4], [5,4,3], [3, 3, 3], [1, 1, 2], [2, 2, 2]]\n",
    "print(retain_records(records,3,5))"
   ]
  },
  {
   "cell_type": "markdown",
   "id": "de76f183",
   "metadata": {},
   "source": [
    "**39-write a Python Program to Sort the list according to the column using lambda\n",
    "array = [[1, 3, 3], [2, 1, 2], [3, 2, 1]]\n",
    "Output :\n",
    "Sorted array specific to column 0, [[1, 3, 3], [2, 1, 2], [3, 2, 1]]\n",
    "Sorted array specific to column 1, [[2, 1, 2], [3, 2, 1], [1, 3, 3]]\n",
    "Sorted array specific to column 2, [[3, 2, 1], [2, 1, 2], [1, 3, 3]]**"
   ]
  },
  {
   "cell_type": "code",
   "execution_count": 82,
   "id": "dc883308",
   "metadata": {},
   "outputs": [
    {
     "name": "stdout",
     "output_type": "stream",
     "text": [
      "2\n",
      "[[3, 2, 1], [2, 1, 2], [[1, 3, 3]]]\n"
     ]
    }
   ],
   "source": [
    "array = [[1, 3, 3], [2, 1, 2], [3, 2, 1]]\n",
    "temp=array[:]\n",
    "temp0=[]\n",
    "sorted_array=[]\n",
    "x=int(input())\n",
    "min_ele=array[0][x]\n",
    "min_col=array[0]\n",
    "count=0\n",
    "while(count!=2):\n",
    "    for i in temp:\n",
    "        if(i[x]<min_ele):\n",
    "            min_ele=i[x]\n",
    "            min_col=i\n",
    "    sorted_array.append(min_col)\n",
    "    temp0=temp[:]\n",
    "    temp.clear()\n",
    "    for i in temp0:\n",
    "        if(i!=min_col):\n",
    "            temp.append(i)\n",
    "    count+=1\n",
    "    min_ele=temp[0][x]\n",
    "    min_col=temp[0]\n",
    "sorted_array.append(temp)\n",
    "print(sorted_array)"
   ]
  },
  {
   "cell_type": "markdown",
   "id": "fda7bcbb",
   "metadata": {},
   "source": [
    "**40- write a program to Sort Python Dictionaries by Key or Value\n",
    "Input:\n",
    "{'ravi': 10, 'rajnish': 9, 'sanjeev': 15, 'yash': 2, 'suraj': 32}**\n",
    "\n",
    "**Output: \n",
    "{'rajnish': 9, 'ravi': 10, 'sanjeev': 15, 'suraj': 32, 'yash': 2}**"
   ]
  },
  {
   "cell_type": "code",
   "execution_count": 99,
   "id": "a96db4a0",
   "metadata": {},
   "outputs": [
    {
     "name": "stdout",
     "output_type": "stream",
     "text": [
      "value\n",
      "{'yash': 2, 'rajnish': 9, 'ravi': 10, 'sanjeev': 15, 'suraj': 32}\n"
     ]
    }
   ],
   "source": [
    "d={'ravi': 10, 'rajnish': 9, 'sanjeev': 15, 'yash': 2, 'suraj': 32}\n",
    "s_d={}\n",
    "x=input()\n",
    "l=[]\n",
    "if(x=='key'):\n",
    "    l=list(d.keys())\n",
    "    l.sort()\n",
    "    for i in l:\n",
    "        s_d[i]=d[i]\n",
    "    print(s_d)\n",
    "elif(x=='value'):\n",
    "    l=list(d.values())\n",
    "    l.sort()\n",
    "    for i in l:\n",
    "        for j in d:\n",
    "            if(d[j]==i):\n",
    "                s_d[j]=i\n",
    "    print(s_d)\n",
    "        \n",
    "        "
   ]
  },
  {
   "cell_type": "markdown",
   "id": "ec63c23a",
   "metadata": {},
   "source": [
    "**41-write python program to Remove keys with Values Greater than K ( Including mixed values )\n",
    "nput : test_dict = {‘Gfg’ : 3, ‘is’ : 7, ‘best’ : 10, ‘for’ : 6, ‘geeks’ : ‘CS’},\n",
    "K = 7 \n",
    "Output : {‘Gfg’ : 3, ‘for’ : 6, ‘geeks’ : ‘CS’}**"
   ]
  },
  {
   "cell_type": "code",
   "execution_count": 104,
   "id": "e39c3a40",
   "metadata": {},
   "outputs": [
    {
     "name": "stdout",
     "output_type": "stream",
     "text": [
      "{'Gfg': 3, 'for': 6, 'geeks': 'CS'}\n"
     ]
    }
   ],
   "source": [
    "d = {'Gfg' : 3, 'is' : 7, 'best' : 10, 'for' : 6, 'geeks' : 'CS'}\n",
    "k=7\n",
    "l=list(d.keys())\n",
    "for i in l:\n",
    "    if(type(d[i])!=str):\n",
    "        if(d[i]>=k):\n",
    "            del(d[i])\n",
    "print(d)"
   ]
  },
  {
   "cell_type": "markdown",
   "id": "f143f0fe",
   "metadata": {},
   "source": [
    "**42-Write a Python program to concatenate the following dictionaries to create a new one**\n",
    "\n",
    "**Sample Dictionary :\n",
    "dic1={1:10, 2:20}\n",
    "dic2={3:30, 4:40}\n",
    "dic3={5:50,6:60}\n",
    "Expected Result : {1: 10, 2: 20, 3: 30, 4: 40, 5: 50, 6: 60}**"
   ]
  },
  {
   "cell_type": "code",
   "execution_count": 122,
   "id": "74ffdfea",
   "metadata": {},
   "outputs": [
    {
     "data": {
      "text/plain": [
       "{1: 10, 2: 20, 3: 30, 4: 40, 5: 50, 6: 60}"
      ]
     },
     "execution_count": 122,
     "metadata": {},
     "output_type": "execute_result"
    }
   ],
   "source": [
    "dic1={1:10, 2:20}\n",
    "dic2={3:30, 4:40} \n",
    "dic3={5:50,6:60}\n",
    "l=list(dic1.keys())+list(dic2.keys())+list(dic3.keys())\n",
    "l_1=list(dic1.values())+list(dic2.values())+list(dic3.values())\n",
    "d={x: i for i,x in zip(l_1,l)}\n",
    "d"
   ]
  },
  {
   "cell_type": "markdown",
   "id": "fb04c93c",
   "metadata": {},
   "source": [
    "**43-Write a Python program to iterate over dictionaries using for loops**"
   ]
  },
  {
   "cell_type": "code",
   "execution_count": 142,
   "id": "6aebc470",
   "metadata": {},
   "outputs": [
    {
     "name": "stdout",
     "output_type": "stream",
     "text": [
      "Keys     Values\n",
      "----------------\n",
      "Gfg      3\n",
      "is       7\n",
      "best     10\n",
      "for      6\n",
      "geeks    CS\n"
     ]
    }
   ],
   "source": [
    "d = {'Gfg' : 3, 'is' : 7, 'best' : 10, 'for' : 6, 'geeks' : 'CS'}\n",
    "print(\"Keys\".ljust(8,' '),'Values')\n",
    "print(''.ljust(16,'-'))\n",
    "for i in d:\n",
    "    print(i.ljust(8,' '),d[i])\n"
   ]
  },
  {
   "cell_type": "markdown",
   "id": "5f491a9d",
   "metadata": {},
   "source": [
    "**44- Write a Python script to merge two Python dictionaries**"
   ]
  },
  {
   "cell_type": "code",
   "execution_count": 143,
   "id": "b8a14028",
   "metadata": {},
   "outputs": [
    {
     "data": {
      "text/plain": [
       "{1: 10, 2: 20, 3: 30, 4: 40, 5: 50, 6: 60}"
      ]
     },
     "execution_count": 143,
     "metadata": {},
     "output_type": "execute_result"
    }
   ],
   "source": [
    "dic1={1:10, 2:20}\n",
    "dic2={3:30, 4:40} \n",
    "dic3={5:50,6:60}\n",
    "l=list(dic1.keys())+list(dic2.keys())+list(dic3.keys())\n",
    "l_1=list(dic1.values())+list(dic2.values())+list(dic3.values())\n",
    "d={x: i for i,x in zip(l_1,l)}\n",
    "d"
   ]
  },
  {
   "cell_type": "markdown",
   "id": "216fc72d",
   "metadata": {},
   "source": [
    "**45-Write a Python program to get the maximum and minimum values of a dictionary values**"
   ]
  },
  {
   "cell_type": "code",
   "execution_count": 144,
   "id": "d6883f5f",
   "metadata": {},
   "outputs": [
    {
     "name": "stdout",
     "output_type": "stream",
     "text": [
      "60\n",
      "10\n"
     ]
    }
   ],
   "source": [
    "d={1: 10, 2: 20, 3: 30, 4: 40, 5: 50, 6: 60}\n",
    "l=list(d.values())\n",
    "print(max(l))\n",
    "print(min(l))"
   ]
  },
  {
   "cell_type": "markdown",
   "id": "b6a53011",
   "metadata": {},
   "source": [
    "**46- Write a Python program to drop empty items from a given dictionary.\n",
    "Original Dictionary:\n",
    "{'c1': 'Red', 'c2': 'Green', 'c3': None}\n",
    "New Dictionary after dropping empty items:\n",
    "{'c1': 'Red', 'c2': 'Green'}**"
   ]
  },
  {
   "cell_type": "code",
   "execution_count": 149,
   "id": "b5c6fecf",
   "metadata": {},
   "outputs": [
    {
     "data": {
      "text/plain": [
       "{'c1': 'Red', 'c2': 'Green'}"
      ]
     },
     "execution_count": 149,
     "metadata": {},
     "output_type": "execute_result"
    }
   ],
   "source": [
    "d= {'c1': 'Red', 'c2': 'Green', 'c3': None}\n",
    "temp=d.copy()\n",
    "for i in temp:\n",
    "    if(temp[i]==None):\n",
    "        del(d[i])\n",
    "d"
   ]
  },
  {
   "cell_type": "markdown",
   "id": "46d718c7",
   "metadata": {},
   "source": [
    "**47-Write a Python program to create a tuple of numbers and print one item**"
   ]
  },
  {
   "cell_type": "code",
   "execution_count": 150,
   "id": "13216ff5",
   "metadata": {},
   "outputs": [
    {
     "name": "stdout",
     "output_type": "stream",
     "text": [
      "1 2 3\n",
      "1\n"
     ]
    }
   ],
   "source": [
    "x=input()\n",
    "x=x.split()\n",
    "x=tuple(x)\n",
    "print(x[0])"
   ]
  },
  {
   "cell_type": "markdown",
   "id": "2be5b56b",
   "metadata": {},
   "source": [
    "**48-Write a Python program to unpack a tuple into several variables**"
   ]
  },
  {
   "cell_type": "code",
   "execution_count": 156,
   "id": "595f44be",
   "metadata": {},
   "outputs": [
    {
     "data": {
      "text/plain": [
       "1"
      ]
     },
     "execution_count": 156,
     "metadata": {},
     "output_type": "execute_result"
    }
   ],
   "source": [
    "x=(1,2,'moaz',[1,2,3])\n",
    "x0,x1,x2,x3=x"
   ]
  },
  {
   "cell_type": "markdown",
   "id": "392388a7",
   "metadata": {},
   "source": [
    "**49-Write a Python program to add an item to a tuple**"
   ]
  },
  {
   "cell_type": "code",
   "execution_count": 163,
   "id": "54cc092e",
   "metadata": {},
   "outputs": [
    {
     "data": {
      "text/plain": [
       "(1, 2, 3, 4, 0)"
      ]
     },
     "execution_count": 163,
     "metadata": {},
     "output_type": "execute_result"
    }
   ],
   "source": [
    "x=0\n",
    "y=(1,2,3,4)\n",
    "z=y+(x,)\n",
    "z"
   ]
  },
  {
   "cell_type": "markdown",
   "id": "3e8fd124",
   "metadata": {},
   "source": [
    "**50-Write a Python program to convert a tuple to a string**"
   ]
  },
  {
   "cell_type": "code",
   "execution_count": 166,
   "id": "92a71ddc",
   "metadata": {},
   "outputs": [
    {
     "data": {
      "text/plain": [
       "'moaz'"
      ]
     },
     "execution_count": 166,
     "metadata": {},
     "output_type": "execute_result"
    }
   ],
   "source": [
    "x=('m','o','a','z')\n",
    "s=''\n",
    "for i in x:\n",
    "    s+=i\n",
    "s"
   ]
  },
  {
   "cell_type": "code",
   "execution_count": 181,
   "id": "53794e59",
   "metadata": {},
   "outputs": [
    {
     "data": {
      "text/plain": [
       "'mo1az'"
      ]
     },
     "execution_count": 181,
     "metadata": {},
     "output_type": "execute_result"
    }
   ],
   "source": [
    "x=('m','o',1,'a','z')\n",
    "l=list(map(str,x))\n",
    "l=''.join(l)\n",
    "l    "
   ]
  },
  {
   "cell_type": "markdown",
   "id": "f4f64ef4",
   "metadata": {},
   "source": [
    "**51-Write a Python program to convert a list to a tuple**"
   ]
  },
  {
   "cell_type": "code",
   "execution_count": 186,
   "id": "210d56d3",
   "metadata": {},
   "outputs": [
    {
     "data": {
      "text/plain": [
       "(1, 2, 3, 4, 5)"
      ]
     },
     "execution_count": 186,
     "metadata": {},
     "output_type": "execute_result"
    }
   ],
   "source": [
    "x=[1,2,3,4,5]\n",
    "y=()\n",
    "for i in x:\n",
    "    y=y+(i,)\n",
    "#--------------------\n",
    "y=tuple(x)"
   ]
  },
  {
   "cell_type": "markdown",
   "id": "b1e00ef7",
   "metadata": {},
   "source": [
    "**52-Write a Python program to reverse a tuple**"
   ]
  },
  {
   "cell_type": "code",
   "execution_count": 189,
   "id": "f45bfdc7",
   "metadata": {},
   "outputs": [
    {
     "data": {
      "text/plain": [
       "(4, 3, 2, 1)"
      ]
     },
     "execution_count": 189,
     "metadata": {},
     "output_type": "execute_result"
    }
   ],
   "source": [
    "x=(1,2,3,4)\n",
    "y=list(x)\n",
    "y.reverse()\n",
    "x=tuple(y)\n",
    "x"
   ]
  },
  {
   "cell_type": "markdown",
   "id": "3cd347d1",
   "metadata": {},
   "source": [
    "**53-Write a Python program to replace the last value of tuples in a list.\n",
    "Sample list: [(10, 20, 40), (40, 50, 60), (70, 80, 90)]\n",
    "Expected Output: [(10, 20, 100), (40, 50, 100), (70, 80, 100)]**"
   ]
  },
  {
   "cell_type": "code",
   "execution_count": 190,
   "id": "3c4a2a4c",
   "metadata": {},
   "outputs": [
    {
     "data": {
      "text/plain": [
       "[(10, 20, 100), (40, 50, 100), (70, 80, 100)]"
      ]
     },
     "execution_count": 190,
     "metadata": {},
     "output_type": "execute_result"
    }
   ],
   "source": [
    "l= [(10, 20, 40), (40, 50, 60), (70, 80, 90)]\n",
    "l_n=[]\n",
    "value=100\n",
    "for i in l:\n",
    "    i=list(i)\n",
    "    i[-1]=value\n",
    "    i=tuple(i)\n",
    "    l_n.append(i)\n",
    "l_n"
   ]
  },
  {
   "cell_type": "markdown",
   "id": "76bb7b39",
   "metadata": {},
   "source": [
    "**54-Write a Python program to convert a given string list to a tuple\n",
    "Original string: python 3.0\n",
    "<class 'str'>\n",
    "Convert the said string to a tuple:\n",
    "('p', 'y', 't', 'h', 'o', 'n', '3', '.', '0')**"
   ]
  },
  {
   "cell_type": "code",
   "execution_count": 193,
   "id": "51951937",
   "metadata": {},
   "outputs": [
    {
     "data": {
      "text/plain": [
       "('p', 'y', 't', 'h', 'o', 'n', '3', '.', '0')"
      ]
     },
     "execution_count": 193,
     "metadata": {},
     "output_type": "execute_result"
    }
   ],
   "source": [
    "x='python 3.0'\n",
    "l=[]\n",
    "for i in x:\n",
    "    if(i==' '):\n",
    "        continue\n",
    "    l.append(i)\n",
    "t=tuple(l)\n",
    "t"
   ]
  },
  {
   "cell_type": "markdown",
   "id": "5a1d5d97",
   "metadata": {},
   "source": [
    "**55-Write a Python program to calculate the average value of the numbers in a given tuple of tuples**"
   ]
  },
  {
   "cell_type": "code",
   "execution_count": 198,
   "id": "834e7992",
   "metadata": {},
   "outputs": [
    {
     "name": "stdout",
     "output_type": "stream",
     "text": [
      "(5.0,)\n"
     ]
    }
   ],
   "source": [
    "import numpy as np\n",
    "t=((1,2,3),(4,5,6),(7,8,9))\n",
    "avg=[]\n",
    "r=np.array(list(t))\n",
    "avg.append(np.mean(r))\n",
    "print(tuple(avg))"
   ]
  },
  {
   "cell_type": "markdown",
   "id": "51edab9c",
   "metadata": {},
   "source": [
    "**56-Write a Python program to add member(s) to a set.**"
   ]
  },
  {
   "cell_type": "code",
   "execution_count": 202,
   "id": "2b65df79",
   "metadata": {},
   "outputs": [
    {
     "name": "stdout",
     "output_type": "stream",
     "text": [
      "1\n",
      "2\n",
      "3\n",
      "0\n",
      "{'1', '2', '3'}\n"
     ]
    }
   ],
   "source": [
    "s=[]\n",
    "s=set(s)\n",
    "x=input()\n",
    "while(x!='0'):\n",
    "    s.add(x)\n",
    "    x=input()\n",
    "print(s)"
   ]
  },
  {
   "cell_type": "markdown",
   "id": "965590cc",
   "metadata": {},
   "source": [
    "**57-Write a Python program to remove an item from a set if it is present in the set.**\n"
   ]
  },
  {
   "cell_type": "code",
   "execution_count": 206,
   "id": "866bab28",
   "metadata": {},
   "outputs": [
    {
     "data": {
      "text/plain": [
       "{1, 2, 3, 5}"
      ]
     },
     "execution_count": 206,
     "metadata": {},
     "output_type": "execute_result"
    }
   ],
   "source": [
    "s={1,2,3,4,5}\n",
    "ele=4\n",
    "if(ele in s):\n",
    "    s.remove(ele)\n",
    "s"
   ]
  },
  {
   "cell_type": "markdown",
   "id": "2b7cfed1",
   "metadata": {},
   "source": [
    "**58-Write a Python program to create an intersection,union,difference and symmetric difference of sets**"
   ]
  },
  {
   "cell_type": "code",
   "execution_count": 210,
   "id": "7f94b7fe",
   "metadata": {},
   "outputs": [
    {
     "name": "stdout",
     "output_type": "stream",
     "text": [
      "Intersection: {5}\n",
      "Union: {1, 2, 3, 4, 5, 6, 7, 8, 9}\n",
      "Difference (set1 - set2): {1, 2, 3, 4}\n",
      "Symmetric Difference: {1, 2, 3, 4, 6, 7, 8, 9}\n"
     ]
    }
   ],
   "source": [
    "s0={1,2,3,4,5}\n",
    "s1={5,6,7,8,9}\n",
    "inter=s0.intersection(s1)\n",
    "uni=s0.union(s1)\n",
    "diff=s0.difference(s1)\n",
    "sym_diff=s0.symmetric_difference(s1)\n",
    "print(\"Intersection:\", inter)\n",
    "print(\"Union:\", uni)\n",
    "print(\"Difference (set1 - set2):\", diff)\n",
    "print(\"Symmetric Difference:\", sym_diff)"
   ]
  },
  {
   "cell_type": "markdown",
   "id": "b94931e2",
   "metadata": {},
   "source": [
    "**59-Write a Python program to find the maximum and minimum values in a set**"
   ]
  },
  {
   "cell_type": "code",
   "execution_count": 212,
   "id": "203f9600",
   "metadata": {},
   "outputs": [
    {
     "name": "stdout",
     "output_type": "stream",
     "text": [
      "6\n",
      "1\n"
     ]
    }
   ],
   "source": [
    "s={1,2,3,4,5,6}\n",
    "print(max(s))\n",
    "print(min(s))"
   ]
  },
  {
   "cell_type": "markdown",
   "id": "255fd554",
   "metadata": {},
   "source": [
    "**60- Write a Python program that finds all pairs of elements in a list whose sum is equal to a given value.**"
   ]
  },
  {
   "cell_type": "code",
   "execution_count": 217,
   "id": "c2d94e1f",
   "metadata": {},
   "outputs": [
    {
     "name": "stdout",
     "output_type": "stream",
     "text": [
      "(1, 8)\n",
      "(2, 7)\n",
      "(3, 6)\n",
      "(4, 5)\n"
     ]
    }
   ],
   "source": [
    "from itertools import combinations\n",
    "val=9\n",
    "l=[1,2,3,4,5,6,7,8,9]\n",
    "for com in combinations(l,2):\n",
    "    if(sum(com)==val):\n",
    "        print(com)"
   ]
  }
 ],
 "metadata": {
  "kernelspec": {
   "display_name": "Python 3 (ipykernel)",
   "language": "python",
   "name": "python3"
  },
  "language_info": {
   "codemirror_mode": {
    "name": "ipython",
    "version": 3
   },
   "file_extension": ".py",
   "mimetype": "text/x-python",
   "name": "python",
   "nbconvert_exporter": "python",
   "pygments_lexer": "ipython3",
   "version": "3.11.4"
  }
 },
 "nbformat": 4,
 "nbformat_minor": 5
}
